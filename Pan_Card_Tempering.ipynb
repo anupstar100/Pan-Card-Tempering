{
  "nbformat": 4,
  "nbformat_minor": 0,
  "metadata": {
    "colab": {
      "name": "Pan Card Tempering.ipynb",
      "provenance": [],
      "collapsed_sections": [],
      "authorship_tag": "ABX9TyP9ro2SJwLGMhvdTKsUQ5Kw",
      "include_colab_link": true
    },
    "kernelspec": {
      "name": "python3",
      "display_name": "Python 3"
    },
    "language_info": {
      "name": "python"
    }
  },
  "cells": [
    {
      "cell_type": "markdown",
      "metadata": {
        "id": "view-in-github",
        "colab_type": "text"
      },
      "source": [
        "<a href=\"https://colab.research.google.com/github/anupstar100/Pan-Card-Tempering/blob/main/Pan_Card_Tempering.ipynb\" target=\"_parent\"><img src=\"https://colab.research.google.com/assets/colab-badge.svg\" alt=\"Open In Colab\"/></a>"
      ]
    },
    {
      "cell_type": "code",
      "execution_count": 3,
      "metadata": {
        "id": "YXwagGHtJWMB"
      },
      "outputs": [],
      "source": [
        "# import packages\n",
        "from skimage.metrics import structural_similarity\n",
        "import imutils\n",
        "import cv2\n",
        "from PIL import Image\n",
        "import requests"
      ]
    },
    {
      "cell_type": "code",
      "source": [
        "!mkdir pan_csrd_tampering"
      ],
      "metadata": {
        "id": "dB_MELXeJ8LZ"
      },
      "execution_count": 6,
      "outputs": []
    },
    {
      "cell_type": "code",
      "source": [
        "!mkdir /content/pan_csrd_tampering/image"
      ],
      "metadata": {
        "id": "6N3bwmpRKRQu"
      },
      "execution_count": 8,
      "outputs": []
    },
    {
      "cell_type": "code",
      "source": [
        "# open image and display\n",
        "original = Image.open(requests.get('https://www.thestatesman.com/wp-content/uploads/2019/07/pan-card.jpg', stream = True).raw)\n",
        "tampered = Image.open(requests.get('https://assets1.cleartax-cdn.com/s/img/20170526124335/Pan4.png', stream = True).raw)"
      ],
      "metadata": {
        "id": "EJo--DPaKiIQ"
      },
      "execution_count": 9,
      "outputs": []
    },
    {
      "cell_type": "markdown",
      "source": [
        "## Loading original amd user provided images"
      ],
      "metadata": {
        "id": "Kzfyq1VeLwQP"
      }
    },
    {
      "cell_type": "code",
      "source": [
        "# file format of source file\n",
        "print('Original Image format: ', original.format)\n",
        "print('Tampered image format: ', tampered.format)\n",
        "\n",
        "# image size in pixels\n",
        "print('Original image size: ', original.size)\n",
        "print('Tampered image size: ', tampered.size)"
      ],
      "metadata": {
        "colab": {
          "base_uri": "https://localhost:8080/"
        },
        "id": "smLJzYDWLthX",
        "outputId": "2547f4a2-385d-4c24-d435-7347fc880229"
      },
      "execution_count": 10,
      "outputs": [
        {
          "output_type": "stream",
          "name": "stdout",
          "text": [
            "Original Image format:  JPEG\n",
            "Tampered image format:  PNG\n",
            "Original image size:  (1200, 800)\n",
            "Tampered image size:  (282, 179)\n"
          ]
        }
      ]
    },
    {
      "cell_type": "code",
      "source": [
        ""
      ],
      "metadata": {
        "id": "bvhhliAgMeTQ"
      },
      "execution_count": null,
      "outputs": []
    }
  ]
}